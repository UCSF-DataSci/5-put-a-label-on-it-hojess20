{
 "cells": [
  {
   "cell_type": "markdown",
   "id": "3f58fab0",
   "metadata": {},
   "source": [
    "# Install necessary packages"
   ]
  },
  {
   "cell_type": "code",
   "execution_count": null,
   "id": "ffc67ee1",
   "metadata": {},
   "outputs": [],
   "source": [
    "%pip install -r requirements.txt"
   ]
  },
  {
   "cell_type": "markdown",
   "id": "9f9b823e",
   "metadata": {},
   "source": [
    "# Part 1: Introduction to Classification & Evaluation\n",
    "\n",
    "**Objective:** Load the synthetic health data, train a Logistic Regression model, and evaluate its performance.\n",
    "\n",
    "## 1. Setup\n",
    "\n",
    "Import necessary libraries."
   ]
  },
  {
   "cell_type": "code",
   "execution_count": 5,
   "id": "1b6b8b10",
   "metadata": {},
   "outputs": [],
   "source": [
    "import pandas as pd\n",
    "import numpy as np\n",
    "import os\n",
    "from sklearn.model_selection import train_test_split\n",
    "from sklearn.linear_model import LogisticRegression\n",
    "from sklearn.metrics import accuracy_score, precision_score, recall_score, f1_score, roc_auc_score, confusion_matrix\n",
    "from sklearn.impute import SimpleImputer"
   ]
  },
  {
   "cell_type": "markdown",
   "id": "989fb771",
   "metadata": {},
   "source": [
    "## 2. Data Loading\n",
    "\n",
    "Implement the `load_data` function to read the dataset."
   ]
  },
  {
   "cell_type": "code",
   "execution_count": 6,
   "id": "4715fb57",
   "metadata": {},
   "outputs": [],
   "source": [
    "def load_data(file_path):\n",
    "    \"\"\"\n",
    "    Load the synthetic health data from a CSV file.\n",
    "    \n",
    "    Args:\n",
    "        file_path: Path to the CSV file\n",
    "        \n",
    "    Returns:\n",
    "        DataFrame containing the data\n",
    "    \"\"\"\n",
    "    df = pd.read_csv(file_path)\n",
    "    return df"
   ]
  },
  {
   "cell_type": "markdown",
   "id": "e40bee3b",
   "metadata": {},
   "source": [
    "## 3. Data Preparation\n",
    "\n",
    "Implement `prepare_data_part1` to select features, split data, and handle missing values."
   ]
  },
  {
   "cell_type": "code",
   "execution_count": 7,
   "id": "ad456ed7",
   "metadata": {},
   "outputs": [],
   "source": [
    "def prepare_data_part1(df, test_size=0.2, random_state=42):\n",
    "    \"\"\"\n",
    "    Prepare data for modeling: select features, split into train/test sets, handle missing values.\n",
    "    \n",
    "    Args:\n",
    "        df: Input DataFrame\n",
    "        test_size: Proportion of data for testing\n",
    "        random_state: Random seed for reproducibility\n",
    "        \n",
    "    Returns:\n",
    "        X_train, X_test, y_train, y_test\n",
    "    \"\"\"\n",
    "    # YOUR CODE HERE\n",
    "    # 1. Select relevant features (age, systolic_bp, diastolic_bp, glucose_level, bmi)\n",
    "    # 2. Select target variable (disease_outcome)\n",
    "    # 3. Split data into training and testing sets\n",
    "    # 4. Handle missing values using SimpleImputer\n",
    "    \n",
    "\n",
    "    X = df[['age', 'systolic_bp', 'diastolic_bp', 'glucose_level', 'bmi']]\n",
    "    Y = df[['disease_outcome']]\n",
    "\n",
    "    X_train, X_test, y_train, y_test = train_test_split(X, Y, test_size = test_size, random_state = random_state)\n",
    "\n",
    "    imputer = SimpleImputer(strategy = 'mean')\n",
    "    X_train = imputer.fit_transform(X_train)\n",
    "    X_test = imputer.transform(X_test)\n",
    "    \n",
    "    return X_train, X_test, y_train, y_test"
   ]
  },
  {
   "cell_type": "markdown",
   "id": "a86e3313",
   "metadata": {},
   "source": [
    "## 4. Model Training\n",
    "\n",
    "Implement `train_logistic_regression`."
   ]
  },
  {
   "cell_type": "code",
   "execution_count": 8,
   "id": "048c9795",
   "metadata": {},
   "outputs": [],
   "source": [
    "def train_logistic_regression(X_train, y_train):\n",
    "    \"\"\"\n",
    "    Train a logistic regression model.\n",
    "    \n",
    "    Args:\n",
    "        X_train: Training features\n",
    "        y_train: Training target\n",
    "        \n",
    "    Returns:\n",
    "        Trained logistic regression model\n",
    "    \"\"\"\n",
    "    log_mod = LogisticRegression()\n",
    "    return log_mod.fit(X_train, y_train)  "
   ]
  },
  {
   "cell_type": "markdown",
   "id": "684e0fb6",
   "metadata": {},
   "source": [
    "## 5. Model Evaluation\n",
    "\n",
    "Implement `calculate_evaluation_metrics` to assess the model's performance."
   ]
  },
  {
   "cell_type": "code",
   "execution_count": 9,
   "id": "8ea379a0",
   "metadata": {},
   "outputs": [],
   "source": [
    "def calculate_evaluation_metrics(model, X_test, y_test):\n",
    "    \"\"\"\n",
    "    Calculate classification evaluation metrics.\n",
    "    \n",
    "    Args:\n",
    "        model: Trained model\n",
    "        X_test: Test features\n",
    "        y_test: Test target\n",
    "        \n",
    "    Returns:\n",
    "        Dictionary containing accuracy, precision, recall, f1, auc, and confusion_matrix\n",
    "    \"\"\"\n",
    "    y_pred = model.predict(X_test)\n",
    "    accuracy = accuracy_score(y_test, y_pred)\n",
    "    precision = precision_score(y_test, y_pred)\n",
    "    recall = recall_score(y_test, y_pred)\n",
    "    f1 = f1_score(y_test, y_pred)\n",
    "    auc = roc_auc_score(y_test, y_pred)\n",
    "    con_mat = confusion_matrix(y_test, y_pred)\n",
    "\n",
    "    results = {\n",
    "        'accuracy': accuracy,\n",
    "        'precision': precision,\n",
    "        'recall': recall,\n",
    "        'f1': f1,\n",
    "        'auc': auc,\n",
    "        'confusion_matrix': con_mat\n",
    "    }\n",
    "    \n",
    "    return results"
   ]
  },
  {
   "cell_type": "markdown",
   "id": "acc935c0",
   "metadata": {},
   "source": [
    "## 6. Save Results\n",
    "\n",
    "Save the calculated metrics to a text file."
   ]
  },
  {
   "cell_type": "code",
   "execution_count": 11,
   "id": "aa2993dd",
   "metadata": {},
   "outputs": [],
   "source": [
    "# Create results directory and save metrics\n",
    "# YOUR CODE HERE\n",
    "def save_results(metrics: dict):\n",
    "    os.makedirs('results', exist_ok=True)\n",
    "    formatted_metrics = [f\"{key}: {value}\" for key, value in metrics.items()]\n",
    "\n",
    "    output_file = 'results/results_part1.txt'\n",
    "    with open(output_file, 'w') as f:\n",
    "        for line in formatted_metrics:\n",
    "            f.write(line + '\\n')\n",
    "    print(f\"\\nMetrics saved to {output_file}\")"
   ]
  },
  {
   "cell_type": "code",
   "execution_count": 12,
   "id": "fd577045",
   "metadata": {},
   "outputs": [],
   "source": [
    "## 8. Interpret Results\n",
    "\n",
    "# Implement a function to analyze the model performance on imbalanced data.\n",
    "\n",
    "# ```python\n",
    "def interpret_results(metrics):\n",
    "    \"\"\"\n",
    "    Analyze model performance on imbalanced data.\n",
    "    \n",
    "    Args:\n",
    "        metrics: Dictionary containing evaluation metrics\n",
    "        \n",
    "    Returns:\n",
    "        Dictionary with keys:\n",
    "        - 'best_metric': Name of the metric that performed best\n",
    "        - 'worst_metric': Name of the metric that performed worst\n",
    "        - 'imbalance_impact_score': A score from 0-1 indicating how much\n",
    "          the class imbalance affected results (0=no impact, 1=severe impact)\n",
    "    \"\"\"\n",
    "    # YOUR CODE HERE\n",
    "    # 1. Determine which metric performed best and worst\n",
    "    # 2. Calculate an imbalance impact score based on the difference\n",
    "    #    between accuracy and more imbalance-sensitive metrics like F1 or recall\n",
    "    # 3. Return the results as a dictionary\n",
    "    \n",
    "    simple_metrics = {name: value for name, value in metrics.items() if name != 'confusion_matrix'}\n",
    "    \n",
    "    # Step 2: Find the metric with the highest and lowest value\n",
    "    best_metric_name = max(simple_metrics, key=simple_metrics.get)\n",
    "    worst_metric_name = min(simple_metrics, key=simple_metrics.get)\n",
    "    \n",
    "    # Step 3: Calculate the imbalance impact score\n",
    "    # If accuracy is much higher than recall or F1, it could mean class imbalance\n",
    "    accuracy = metrics.get('accuracy', 0)\n",
    "    recall = metrics.get('recall', 0)\n",
    "    f1 = metrics.get('f1', 0)\n",
    "    \n",
    "    # Compute how different accuracy is from recall and F1\n",
    "    difference_recall = abs(accuracy - recall)\n",
    "    difference_f1 = abs(accuracy - f1)\n",
    "    \n",
    "    # Average the two differences and cap at 1.0\n",
    "    imbalance_score = (difference_recall + difference_f1) / 2\n",
    "    imbalance_score = round(min(imbalance_score, 1.0), 3) \n",
    "    return {\n",
    "        'best_metric': best_metric_name,\n",
    "        'worst_metric': worst_metric_name,\n",
    "        'imbalance_impact_score': imbalance_score\n",
    "    }"
   ]
  },
  {
   "cell_type": "markdown",
   "id": "c8e0f71c",
   "metadata": {},
   "source": [
    "## 7. Main Execution\n",
    "\n",
    "Run the complete workflow."
   ]
  },
  {
   "cell_type": "code",
   "execution_count": 14,
   "id": "c0960d14",
   "metadata": {},
   "outputs": [
    {
     "name": "stderr",
     "output_type": "stream",
     "text": [
      "/Users/jessica/opt/anaconda3/lib/python3.9/site-packages/sklearn/utils/validation.py:993: DataConversionWarning: A column-vector y was passed when a 1d array was expected. Please change the shape of y to (n_samples, ), for example using ravel().\n",
      "  y = column_or_1d(y, warn=True)\n"
     ]
    },
    {
     "name": "stdout",
     "output_type": "stream",
     "text": [
      "accuracy: 0.9168\n",
      "precision: 0.6615\n",
      "recall: 0.3007\n",
      "f1: 0.4135\n",
      "auc: 0.6420\n",
      "\n",
      "Metrics saved to results/results_part1.txt\n",
      "\n",
      "Results Interpretation:\n",
      "best_metric: accuracy\n",
      "worst_metric: recall\n",
      "imbalance_impact_score: 0.56\n"
     ]
    }
   ],
   "source": [
    "# Main execution\n",
    "if __name__ == \"__main__\":\n",
    "    # 1. Load data\n",
    "    data_file = 'data/synthetic_health_data.csv'\n",
    "    df = load_data(data_file)\n",
    "    \n",
    "    # 2. Prepare data\n",
    "    X_train, X_test, y_train, y_test = prepare_data_part1(df)\n",
    "    \n",
    "    # 3. Train model\n",
    "    model = train_logistic_regression(X_train, y_train)\n",
    "    \n",
    "    # 4. Evaluate model\n",
    "    metrics = calculate_evaluation_metrics(model, X_test, y_test)\n",
    "    \n",
    "    # 5. Print metrics\n",
    "    for metric, value in metrics.items():\n",
    "        if metric != 'confusion_matrix':\n",
    "            print(f\"{metric}: {value:.4f}\")\n",
    "    \n",
    "    # 6. Save results\n",
    "    save_results(metrics)\n",
    "    \n",
    "    # 7. Interpret results\n",
    "    interpretation = interpret_results(metrics)\n",
    "    print(\"\\nResults Interpretation:\")\n",
    "    for key, value in interpretation.items():\n",
    "        print(f\"{key}: {value}\")"
   ]
  },
  {
   "cell_type": "markdown",
   "id": "be61d93d",
   "metadata": {},
   "source": [
    "<!-- ## 8. Interpret Results\n",
    "\n",
    "Implement a function to analyze the model performance on imbalanced data.\n",
    "\n",
    "```python\n",
    "def interpret_results(metrics):\n",
    "    \"\"\"\n",
    "    Analyze model performance on imbalanced data.\n",
    "    \n",
    "    Args:\n",
    "        metrics: Dictionary containing evaluation metrics\n",
    "        \n",
    "    Returns:\n",
    "        Dictionary with keys:\n",
    "        - 'best_metric': Name of the metric that performed best\n",
    "        - 'worst_metric': Name of the metric that performed worst\n",
    "        - 'imbalance_impact_score': A score from 0-1 indicating how much\n",
    "          the class imbalance affected results (0=no impact, 1=severe impact)\n",
    "    \"\"\"\n",
    "    # YOUR CODE HERE\n",
    "    # 1. Determine which metric performed best and worst\n",
    "    # 2. Calculate an imbalance impact score based on the difference\n",
    "    #    between accuracy and more imbalance-sensitive metrics like F1 or recall\n",
    "    # 3. Return the results as a dictionary\n",
    "    \n",
    "    simple_metrics = {name: value for name, value in metrics.items() if name != 'confusion_matrix'}\n",
    "    \n",
    "    # Step 2: Find the metric with the highest and lowest value\n",
    "    best_metric_name = max(simple_metrics, key=simple_metrics.get)\n",
    "    worst_metric_name = min(simple_metrics, key=simple_metrics.get)\n",
    "    \n",
    "    # Step 3: Calculate the imbalance impact score\n",
    "    # If accuracy is much higher than recall or F1, it could mean class imbalance\n",
    "    accuracy = metrics.get('accuracy', 0)\n",
    "    recall = metrics.get('recall', 0)\n",
    "    f1 = metrics.get('f1', 0)\n",
    "    \n",
    "    # Compute how different accuracy is from recall and F1\n",
    "    difference_recall = abs(accuracy - recall)\n",
    "    difference_f1 = abs(accuracy - f1)\n",
    "    \n",
    "    # Average the two differences and cap at 1.0\n",
    "    imbalance_score = (difference_recall + difference_f1) / 2\n",
    "    imbalance_score = round(min(imbalance_score, 1.0), 3) \n",
    "    return {\n",
    "        'best_metric': best_metric_name,\n",
    "        'worst_metric': worst_metric_name,\n",
    "        'imbalance_impact_score': imbalance_score\n",
    "    } -->"
   ]
  }
 ],
 "metadata": {
  "kernelspec": {
   "display_name": "base",
   "language": "python",
   "name": "python3"
  },
  "language_info": {
   "codemirror_mode": {
    "name": "ipython",
    "version": 3
   },
   "file_extension": ".py",
   "mimetype": "text/x-python",
   "name": "python",
   "nbconvert_exporter": "python",
   "pygments_lexer": "ipython3",
   "version": "3.9.12"
  }
 },
 "nbformat": 4,
 "nbformat_minor": 5
}
