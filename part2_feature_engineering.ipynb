{
 "cells": [
  {
   "cell_type": "markdown",
   "id": "f05845f9",
   "metadata": {},
   "source": [
    "# Install necessary packages"
   ]
  },
  {
   "cell_type": "code",
   "execution_count": 7,
   "id": "dadc2e8d",
   "metadata": {},
   "outputs": [
    {
     "name": "stdout",
     "output_type": "stream",
     "text": [
      "Requirement already satisfied: pandas<3.0,>=1.5 in /Users/jessica/opt/anaconda3/lib/python3.9/site-packages (from -r requirements.txt (line 2)) (2.2.3)\n",
      "Requirement already satisfied: numpy<3.0,>=1.20 in /Users/jessica/opt/anaconda3/lib/python3.9/site-packages (from -r requirements.txt (line 3)) (1.22.4)\n",
      "Requirement already satisfied: scikit-learn<2.0,>=1.0 in /Users/jessica/opt/anaconda3/lib/python3.9/site-packages (from -r requirements.txt (line 4)) (1.0.2)\n",
      "Requirement already satisfied: xgboost<3.0,>=1.5 in /Users/jessica/opt/anaconda3/lib/python3.9/site-packages (from -r requirements.txt (line 5)) (2.1.4)\n",
      "Requirement already satisfied: imbalanced-learn<1.0,>=0.9 in /Users/jessica/opt/anaconda3/lib/python3.9/site-packages (from -r requirements.txt (line 6)) (0.12.4)\n",
      "Requirement already satisfied: matplotlib<4.0,>=3.5 in /Users/jessica/opt/anaconda3/lib/python3.9/site-packages (from -r requirements.txt (line 7)) (3.5.1)\n",
      "Requirement already satisfied: seaborn<1.0,>=0.11 in /Users/jessica/opt/anaconda3/lib/python3.9/site-packages (from -r requirements.txt (line 8)) (0.11.2)\n",
      "Requirement already satisfied: ipykernel in /Users/jessica/opt/anaconda3/lib/python3.9/site-packages (from -r requirements.txt (line 9)) (6.29.5)\n",
      "Requirement already satisfied: python-dateutil>=2.8.2 in /Users/jessica/opt/anaconda3/lib/python3.9/site-packages (from pandas<3.0,>=1.5->-r requirements.txt (line 2)) (2.8.2)\n",
      "Requirement already satisfied: tzdata>=2022.7 in /Users/jessica/opt/anaconda3/lib/python3.9/site-packages (from pandas<3.0,>=1.5->-r requirements.txt (line 2)) (2025.2)\n",
      "Requirement already satisfied: pytz>=2020.1 in /Users/jessica/opt/anaconda3/lib/python3.9/site-packages (from pandas<3.0,>=1.5->-r requirements.txt (line 2)) (2021.3)\n",
      "Requirement already satisfied: joblib>=0.11 in /Users/jessica/opt/anaconda3/lib/python3.9/site-packages (from scikit-learn<2.0,>=1.0->-r requirements.txt (line 4)) (1.5.1)\n",
      "Requirement already satisfied: scipy>=1.1.0 in /Users/jessica/opt/anaconda3/lib/python3.9/site-packages (from scikit-learn<2.0,>=1.0->-r requirements.txt (line 4)) (1.7.3)\n",
      "Requirement already satisfied: threadpoolctl>=2.0.0 in /Users/jessica/opt/anaconda3/lib/python3.9/site-packages (from scikit-learn<2.0,>=1.0->-r requirements.txt (line 4)) (2.2.0)\n",
      "Requirement already satisfied: packaging>=20.0 in /Users/jessica/opt/anaconda3/lib/python3.9/site-packages (from matplotlib<4.0,>=3.5->-r requirements.txt (line 7)) (25.0)\n",
      "Requirement already satisfied: cycler>=0.10 in /Users/jessica/opt/anaconda3/lib/python3.9/site-packages (from matplotlib<4.0,>=3.5->-r requirements.txt (line 7)) (0.11.0)\n",
      "Requirement already satisfied: pillow>=6.2.0 in /Users/jessica/opt/anaconda3/lib/python3.9/site-packages (from matplotlib<4.0,>=3.5->-r requirements.txt (line 7)) (9.0.1)\n",
      "Requirement already satisfied: kiwisolver>=1.0.1 in /Users/jessica/opt/anaconda3/lib/python3.9/site-packages (from matplotlib<4.0,>=3.5->-r requirements.txt (line 7)) (1.3.2)\n",
      "Requirement already satisfied: fonttools>=4.22.0 in /Users/jessica/opt/anaconda3/lib/python3.9/site-packages (from matplotlib<4.0,>=3.5->-r requirements.txt (line 7)) (4.25.0)\n",
      "Requirement already satisfied: pyparsing>=2.2.1 in /Users/jessica/opt/anaconda3/lib/python3.9/site-packages (from matplotlib<4.0,>=3.5->-r requirements.txt (line 7)) (3.0.4)\n",
      "Requirement already satisfied: traitlets>=5.4.0 in /Users/jessica/opt/anaconda3/lib/python3.9/site-packages (from ipykernel->-r requirements.txt (line 9)) (5.14.3)\n",
      "Requirement already satisfied: ipython>=7.23.1 in /Users/jessica/opt/anaconda3/lib/python3.9/site-packages (from ipykernel->-r requirements.txt (line 9)) (8.2.0)\n",
      "Requirement already satisfied: matplotlib-inline>=0.1 in /Users/jessica/opt/anaconda3/lib/python3.9/site-packages (from ipykernel->-r requirements.txt (line 9)) (0.1.2)\n",
      "Requirement already satisfied: nest-asyncio in /Users/jessica/opt/anaconda3/lib/python3.9/site-packages (from ipykernel->-r requirements.txt (line 9)) (1.5.5)\n",
      "Requirement already satisfied: jupyter-core!=5.0.*,>=4.12 in /Users/jessica/opt/anaconda3/lib/python3.9/site-packages (from ipykernel->-r requirements.txt (line 9)) (5.7.2)\n",
      "Requirement already satisfied: psutil in /Users/jessica/opt/anaconda3/lib/python3.9/site-packages (from ipykernel->-r requirements.txt (line 9)) (5.8.0)\n",
      "Requirement already satisfied: jupyter-client>=6.1.12 in /Users/jessica/opt/anaconda3/lib/python3.9/site-packages (from ipykernel->-r requirements.txt (line 9)) (8.6.3)\n",
      "Requirement already satisfied: comm>=0.1.1 in /Users/jessica/opt/anaconda3/lib/python3.9/site-packages (from ipykernel->-r requirements.txt (line 9)) (0.2.2)\n",
      "Requirement already satisfied: tornado>=6.1 in /Users/jessica/opt/anaconda3/lib/python3.9/site-packages (from ipykernel->-r requirements.txt (line 9)) (6.5.1)\n",
      "Requirement already satisfied: pyzmq>=24 in /Users/jessica/opt/anaconda3/lib/python3.9/site-packages (from ipykernel->-r requirements.txt (line 9)) (26.4.0)\n",
      "Requirement already satisfied: debugpy>=1.6.5 in /Users/jessica/opt/anaconda3/lib/python3.9/site-packages (from ipykernel->-r requirements.txt (line 9)) (1.8.14)\n",
      "Requirement already satisfied: appnope in /Users/jessica/opt/anaconda3/lib/python3.9/site-packages (from ipykernel->-r requirements.txt (line 9)) (0.1.2)\n",
      "Requirement already satisfied: pickleshare in /Users/jessica/opt/anaconda3/lib/python3.9/site-packages (from ipython>=7.23.1->ipykernel->-r requirements.txt (line 9)) (0.7.5)\n",
      "Requirement already satisfied: prompt-toolkit!=3.0.0,!=3.0.1,<3.1.0,>=2.0.0 in /Users/jessica/opt/anaconda3/lib/python3.9/site-packages (from ipython>=7.23.1->ipykernel->-r requirements.txt (line 9)) (3.0.20)\n",
      "Requirement already satisfied: stack-data in /Users/jessica/opt/anaconda3/lib/python3.9/site-packages (from ipython>=7.23.1->ipykernel->-r requirements.txt (line 9)) (0.2.0)\n",
      "Requirement already satisfied: decorator in /Users/jessica/opt/anaconda3/lib/python3.9/site-packages (from ipython>=7.23.1->ipykernel->-r requirements.txt (line 9)) (5.1.1)\n",
      "Requirement already satisfied: backcall in /Users/jessica/opt/anaconda3/lib/python3.9/site-packages (from ipython>=7.23.1->ipykernel->-r requirements.txt (line 9)) (0.2.0)\n",
      "Requirement already satisfied: pexpect>4.3 in /Users/jessica/opt/anaconda3/lib/python3.9/site-packages (from ipython>=7.23.1->ipykernel->-r requirements.txt (line 9)) (4.8.0)\n",
      "Requirement already satisfied: pygments>=2.4.0 in /Users/jessica/opt/anaconda3/lib/python3.9/site-packages (from ipython>=7.23.1->ipykernel->-r requirements.txt (line 9)) (2.11.2)\n",
      "Requirement already satisfied: jedi>=0.16 in /Users/jessica/opt/anaconda3/lib/python3.9/site-packages (from ipython>=7.23.1->ipykernel->-r requirements.txt (line 9)) (0.18.1)\n",
      "Requirement already satisfied: setuptools>=18.5 in /Users/jessica/opt/anaconda3/lib/python3.9/site-packages (from ipython>=7.23.1->ipykernel->-r requirements.txt (line 9)) (61.2.0)\n",
      "Requirement already satisfied: parso<0.9.0,>=0.8.0 in /Users/jessica/opt/anaconda3/lib/python3.9/site-packages (from jedi>=0.16->ipython>=7.23.1->ipykernel->-r requirements.txt (line 9)) (0.8.3)\n",
      "Requirement already satisfied: importlib-metadata>=4.8.3 in /Users/jessica/opt/anaconda3/lib/python3.9/site-packages (from jupyter-client>=6.1.12->ipykernel->-r requirements.txt (line 9)) (4.11.3)\n",
      "Requirement already satisfied: zipp>=0.5 in /Users/jessica/opt/anaconda3/lib/python3.9/site-packages (from importlib-metadata>=4.8.3->jupyter-client>=6.1.12->ipykernel->-r requirements.txt (line 9)) (3.7.0)\n",
      "Requirement already satisfied: platformdirs>=2.5 in /Users/jessica/opt/anaconda3/lib/python3.9/site-packages (from jupyter-core!=5.0.*,>=4.12->ipykernel->-r requirements.txt (line 9)) (4.3.8)\n",
      "Requirement already satisfied: ptyprocess>=0.5 in /Users/jessica/opt/anaconda3/lib/python3.9/site-packages (from pexpect>4.3->ipython>=7.23.1->ipykernel->-r requirements.txt (line 9)) (0.7.0)\n",
      "Requirement already satisfied: wcwidth in /Users/jessica/opt/anaconda3/lib/python3.9/site-packages (from prompt-toolkit!=3.0.0,!=3.0.1,<3.1.0,>=2.0.0->ipython>=7.23.1->ipykernel->-r requirements.txt (line 9)) (0.2.5)\n",
      "Requirement already satisfied: six>=1.5 in /Users/jessica/opt/anaconda3/lib/python3.9/site-packages (from python-dateutil>=2.8.2->pandas<3.0,>=1.5->-r requirements.txt (line 2)) (1.16.0)\n",
      "Requirement already satisfied: pure-eval in /Users/jessica/opt/anaconda3/lib/python3.9/site-packages (from stack-data->ipython>=7.23.1->ipykernel->-r requirements.txt (line 9)) (0.2.2)\n",
      "Requirement already satisfied: executing in /Users/jessica/opt/anaconda3/lib/python3.9/site-packages (from stack-data->ipython>=7.23.1->ipykernel->-r requirements.txt (line 9)) (0.8.3)\n",
      "Requirement already satisfied: asttokens in /Users/jessica/opt/anaconda3/lib/python3.9/site-packages (from stack-data->ipython>=7.23.1->ipykernel->-r requirements.txt (line 9)) (2.0.5)\n",
      "Note: you may need to restart the kernel to use updated packages.\n"
     ]
    }
   ],
   "source": [
    "%pip install -r requirements.txt"
   ]
  },
  {
   "cell_type": "markdown",
   "id": "cfb14c6d",
   "metadata": {},
   "source": [
    "# Part 2: Time Series Features & Tree-Based Models\n",
    "\n",
    "**Objective:** Extract basic time-series features from heart rate data, train Random Forest and XGBoost models, and compare their performance.\n",
    "\n",
    "## 1. Setup\n",
    "\n",
    "Import necessary libraries."
   ]
  },
  {
   "cell_type": "code",
   "execution_count": 1,
   "id": "e6dc4be0",
   "metadata": {},
   "outputs": [
    {
     "name": "stderr",
     "output_type": "stream",
     "text": [
      "/Users/jessica/opt/anaconda3/lib/python3.9/site-packages/pandas/core/computation/expressions.py:21: UserWarning: Pandas requires version '2.8.4' or newer of 'numexpr' (version '2.8.1' currently installed).\n",
      "  from pandas.core.computation.check import NUMEXPR_INSTALLED\n",
      "/Users/jessica/opt/anaconda3/lib/python3.9/site-packages/pandas/core/arrays/masked.py:60: UserWarning: Pandas requires version '1.3.6' or newer of 'bottleneck' (version '1.3.4' currently installed).\n",
      "  from pandas.core import (\n"
     ]
    }
   ],
   "source": [
    "import pandas as pd\n",
    "import numpy as np\n",
    "import os\n",
    "from sklearn.model_selection import train_test_split\n",
    "from sklearn.ensemble import RandomForestClassifier\n",
    "import xgboost as xgb\n",
    "from sklearn.metrics import roc_auc_score\n",
    "from sklearn.impute import SimpleImputer"
   ]
  },
  {
   "cell_type": "markdown",
   "id": "517b64c5",
   "metadata": {},
   "source": [
    "## 2. Data Loading\n",
    "\n",
    "Load the dataset."
   ]
  },
  {
   "cell_type": "code",
   "execution_count": 2,
   "id": "f2456ab2",
   "metadata": {},
   "outputs": [],
   "source": [
    "def load_data(file_path):\n",
    "    \"\"\"\n",
    "    Load the synthetic health data from a CSV file.\n",
    "    \n",
    "    Args:\n",
    "        file_path: Path to the CSV file\n",
    "        \n",
    "    Returns:\n",
    "        DataFrame containing the data with timestamp parsed as datetime\n",
    "    \"\"\"\n",
    "    \n",
    "    # Load the CSV file using pandas\n",
    "    # Make sure to parse the timestamp column as datetime\n",
    "    df = pd.read_csv(file_path, parse_dates=['timestamp'])\n",
    "    \n",
    "    return df "
   ]
  },
  {
   "cell_type": "markdown",
   "id": "f424257b",
   "metadata": {},
   "source": [
    "## 3. Feature Engineering\n",
    "\n",
    "Implement `extract_rolling_features` to calculate rolling mean and standard deviation for the `heart_rate`."
   ]
  },
  {
   "cell_type": "code",
   "execution_count": 18,
   "id": "14a69c69",
   "metadata": {},
   "outputs": [],
   "source": [
    "def extract_rolling_features(df, window_size_seconds):\n",
    "    \"\"\"\n",
    "    Calculate rolling mean and standard deviation for heart rate.\n",
    "    \n",
    "    Args:\n",
    "        df: DataFrame with timestamp and heart_rate columns\n",
    "        window_size_seconds: Size of the rolling window in seconds\n",
    "        \n",
    "    Returns:\n",
    "        DataFrame with added hr_rolling_mean and hr_rolling_std columns\n",
    "    \"\"\"\n",
    "    # YOUR CODE HERE\n",
    "    # 1. Sort data by timestamp\n",
    "    df_sorted = df.sort_values('timestamp')\n",
    "    \n",
    "    # 2. Set timestamp as index (this allows time-based operations)\n",
    "    df_indexed = df_sorted.set_index('timestamp')\n",
    "    \n",
    "    # 3. Calculate rolling mean and standard deviation\n",
    "    #    - First, create a rolling window object based on time:\n",
    "    rolling_window = df_indexed['heart_rate'].rolling(window=f'{window_size_seconds}s')\n",
    "    #    - Then calculate statistics on this window:\n",
    "    hr_mean = rolling_window.mean()\n",
    "    hr_std = rolling_window.std()\n",
    "    \n",
    "    # 4. Add the new columns back to the dataframe\n",
    "    df_indexed['hr_rolling_mean'] = hr_mean\n",
    "    df_indexed['hr_rolling_std'] = hr_std\n",
    "    \n",
    "    # 5. Reset index to bring timestamp back as a column\n",
    "    df_result = df_indexed.reset_index()\n",
    "    \n",
    "    # 6. Handle any NaN values (rolling calculations create NaNs at the beginning)\n",
    "    #    - You can use fillna, dropna, or other methods depending on your strategy\n",
    "    df_result = df_result.fillna(method='bfill')  # Example: backward fill\n",
    "    \n",
    "    # Placeholder return - replace with your implementation\n",
    "    return df_result"
   ]
  },
  {
   "cell_type": "markdown",
   "id": "b08e0a50",
   "metadata": {},
   "source": [
    "## 4. Data Preparation\n",
    "\n",
    "Implement `prepare_data_part2` using the newly engineered features."
   ]
  },
  {
   "cell_type": "code",
   "execution_count": 20,
   "id": "a78c7e0b",
   "metadata": {},
   "outputs": [],
   "source": [
    "def prepare_data_part2(df_with_features, test_size=0.2, random_state=42):\n",
    "    \"\"\"\n",
    "    Prepare data for modeling with time-series features.\n",
    "    \n",
    "    Args:\n",
    "        df_with_features: DataFrame with original and rolling features\n",
    "        test_size: Proportion of data for testing\n",
    "        random_state: Random seed for reproducibility\n",
    "        \n",
    "    Returns:\n",
    "        X_train, X_test, y_train, y_test\n",
    "    \"\"\"\n",
    "    # YOUR CODE HERE\n",
    "    # 1. Select relevant features including the rolling features\n",
    "    # 2. Select target variable (disease_outcome)\n",
    "    # 3. Split data into training and testing sets\n",
    "    # 4. Handle missing values\n",
    "    feature_cols = ['age', 'systolic_bp', 'diastolic_bp', 'glucose_level', 'bmi', 'hr_rolling_mean', 'hr_rolling_std']\n",
    "    target_col = 'disease_outcome'\n",
    "    \n",
    "    X = df_with_features[feature_cols]\n",
    "    Y = df_with_features[target_col]  # Use series instead of DataFrame for y\n",
    "\n",
    "    # Replace infinite values with NaN\n",
    "    X = X.replace([np.inf, -np.inf], np.nan)\n",
    "    X = X.fillna(X.mean())\n",
    "    Y = Y.loc[X.index]\n",
    "\n",
    " \n",
    "    X_train, X_test, y_train, y_test = train_test_split(X, Y, test_size=test_size, random_state=random_state)\n",
    "\n",
    "    return X_train, X_test, y_train, y_test"
   ]
  },
  {
   "cell_type": "markdown",
   "id": "171f3432",
   "metadata": {},
   "source": [
    "## 5. Random Forest Model\n",
    "\n",
    "Implement `train_random_forest`."
   ]
  },
  {
   "cell_type": "code",
   "execution_count": 21,
   "id": "a5be6239",
   "metadata": {},
   "outputs": [],
   "source": [
    "def train_random_forest(X_train, y_train, n_estimators=100, max_depth=10, random_state=42):\n",
    "    \"\"\"\n",
    "    Train a Random Forest classifier.\n",
    "    \n",
    "    Args:\n",
    "        X_train: Training features\n",
    "        y_train: Training target\n",
    "        n_estimators: Number of trees in the forest\n",
    "        max_depth: Maximum depth of the trees\n",
    "        random_state: Random seed for reproducibility\n",
    "        \n",
    "    Returns:\n",
    "        Trained Random Forest model\n",
    "    \"\"\"\n",
    "    # YOUR CODE HERE\n",
    "    rf_mod = RandomForestClassifier(n_estimators=n_estimators, max_depth=max_depth, random_state=random_state)\n",
    "    return rf_mod.fit(X_train, y_train)\n",
    "    \n"
   ]
  },
  {
   "cell_type": "markdown",
   "id": "90434f10",
   "metadata": {},
   "source": [
    "## 6. XGBoost Model\n",
    "\n",
    "Implement `train_xgboost`."
   ]
  },
  {
   "cell_type": "code",
   "execution_count": 26,
   "id": "b274aef6",
   "metadata": {},
   "outputs": [],
   "source": [
    "from xgboost import XGBClassifier\n",
    "\n",
    "def train_xgboost(X_train, y_train, n_estimators=100, learning_rate=0.1, max_depth=5, random_state=42):\n",
    "    \"\"\"\n",
    "    Train an XGBoost classifier.\n",
    "    \n",
    "    Args:\n",
    "        X_train: Training features\n",
    "        y_train: Training target\n",
    "        n_estimators: Number of boosting rounds\n",
    "        learning_rate: Boosting learning rate\n",
    "        max_depth: Maximum depth of a tree\n",
    "        random_state: Random seed for reproducibility\n",
    "        \n",
    "    Returns:\n",
    "        Trained XGBoost model\n",
    "    \"\"\"\n",
    "    # Initialize and train an XGBClassifier\n",
    "    xgb_mod = XGBClassifier(n_estimators=n_estimators, learning_rate=learning_rate, max_depth=max_depth, random_state=random_state)\n",
    "    \n",
    "    return xgb_mod.fit(X_train, y_train)"
   ]
  },
  {
   "cell_type": "markdown",
   "id": "16c946f0",
   "metadata": {},
   "source": [
    "## 7. Model Comparison\n",
    "\n",
    "Calculate and compare AUC scores for both models."
   ]
  },
  {
   "cell_type": "code",
   "execution_count": null,
   "id": "7b8eb3a2",
   "metadata": {},
   "outputs": [
    {
     "ename": "NameError",
     "evalue": "name 'X_train' is not defined",
     "output_type": "error",
     "traceback": [
      "\u001b[0;31m---------------------------------------------------------------------------\u001b[0m",
      "\u001b[0;31mNameError\u001b[0m                                 Traceback (most recent call last)",
      "Input \u001b[0;32mIn [14]\u001b[0m, in \u001b[0;36m<cell line: 12>\u001b[0;34m()\u001b[0m\n\u001b[1;32m      1\u001b[0m \u001b[38;5;66;03m# rf_preds = rf_mod.predict_proba(X_test)[:,1]\u001b[39;00m\n\u001b[1;32m      2\u001b[0m \u001b[38;5;66;03m# xgb_preds = xgb_mod.predict_proba(X_test)[:,1]\u001b[39;00m\n\u001b[1;32m      3\u001b[0m \n\u001b[0;32m   (...)\u001b[0m\n\u001b[1;32m      9\u001b[0m \u001b[38;5;66;03m# print(f'Random Forest AUC: {rf_auc}')\u001b[39;00m\n\u001b[1;32m     10\u001b[0m \u001b[38;5;66;03m# print(f'XGBoost AUC: {xgb_auc}')\u001b[39;00m\n\u001b[0;32m---> 12\u001b[0m rf_model \u001b[38;5;241m=\u001b[39m train_random_forest(\u001b[43mX_train\u001b[49m, y_train)\n\u001b[1;32m     13\u001b[0m xgb_model \u001b[38;5;241m=\u001b[39m train_xgboost(X_train, y_train)\n\u001b[1;32m     15\u001b[0m rf_probs \u001b[38;5;241m=\u001b[39m rf_model\u001b[38;5;241m.\u001b[39mpredict_proba(X_test)[:, \u001b[38;5;241m1\u001b[39m]\n",
      "\u001b[0;31mNameError\u001b[0m: name 'X_train' is not defined"
     ]
    }
   ],
   "source": [
    "# rf_preds = rf_mod.predict_proba(X_test)[:,1]\n",
    "# xgb_preds = xgb_mod.predict_proba(X_test)[:,1]\n",
    "\n",
    "# # 2. Calculate AUC scores\n",
    "# rf_auc = roc_auc_score(y_test, rf_preds)\n",
    "# xgb_auc = roc_auc_score(y_test, xgb_preds)\n",
    "\n",
    "# # 3. Compare the performance\n",
    "# print(f'Random Forest AUC: {rf_auc}')\n",
    "# print(f'XGBoost AUC: {xgb_auc}')"
   ]
  },
  {
   "cell_type": "markdown",
   "id": "60f44b8b",
   "metadata": {},
   "source": [
    "## 8. Save Results\n",
    "\n",
    "Save the AUC scores to a text file."
   ]
  },
  {
   "cell_type": "code",
   "execution_count": 27,
   "id": "d58e8537",
   "metadata": {},
   "outputs": [],
   "source": [
    "# YOUR CODE HERE\n",
    "# 1. Create 'results' directory if it doesn't exist\n",
    "# 2. Format AUC scores as strings\n",
    "# 3. Write scores to 'results/results_part2.txt'\n",
    "\n",
    "import os\n",
    "\n",
    "def save_results(rfc_auc: float, xgb_auc: float):\n",
    "    os.makedirs('results', exist_ok=True)\n",
    "\n",
    "    output_file = 'results/results_part2.txt'\n",
    "    with open(output_file, 'w') as f:\n",
    "        f.write(f\"Random Forest: {rfc_auc:.4f}\\n\")\n",
    "        f.write(f\"XGBoost: {xgb_auc:.4f}\\n\")\n",
    "\n",
    "    print(f\"\\nAUC scores saved to {output_file}\")\n"
   ]
  },
  {
   "cell_type": "markdown",
   "id": "65da7144",
   "metadata": {},
   "source": [
    "## 9. Main Execution\n",
    "\n",
    "Run the complete workflow."
   ]
  },
  {
   "cell_type": "code",
   "execution_count": 28,
   "id": "68f38965",
   "metadata": {},
   "outputs": [
    {
     "name": "stderr",
     "output_type": "stream",
     "text": [
      "/var/folders/m3/cjk44zyd71sd0l71hpnfvwwc0000gn/T/ipykernel_62998/3744900928.py:35: FutureWarning: DataFrame.fillna with 'method' is deprecated and will raise in a future version. Use obj.ffill() or obj.bfill() instead.\n",
      "  df_result = df_result.fillna(method='bfill')  # Example: backward fill\n"
     ]
    },
    {
     "name": "stdout",
     "output_type": "stream",
     "text": [
      "Random Forest AUC: 0.9735\n",
      "XGBoost AUC: 0.9953\n",
      "\n",
      "AUC scores saved to results/results_part2.txt\n"
     ]
    }
   ],
   "source": [
    "# Main execution\n",
    "if __name__ == \"__main__\":\n",
    "    # 1. Load data\n",
    "    data_file = 'data/synthetic_health_data.csv'\n",
    "    df = load_data(data_file)\n",
    "    \n",
    "    # 2. Extract rolling features\n",
    "    window_size = 300  # 5 minutes in seconds\n",
    "    df_with_features = extract_rolling_features(df, window_size)\n",
    "    \n",
    "    # 3. Prepare data\n",
    "    X_train, X_test, y_train, y_test = prepare_data_part2(df_with_features)\n",
    "    \n",
    "    # 4. Train models\n",
    "    rf_model = train_random_forest(X_train, y_train)\n",
    "    xgb_model = train_xgboost(X_train, y_train)\n",
    "    \n",
    "    # 5. Calculate AUC scores\n",
    "    rf_probs = rf_model.predict_proba(X_test)[:, 1]\n",
    "    xgb_probs = xgb_model.predict_proba(X_test)[:, 1]\n",
    "    \n",
    "    rf_auc = roc_auc_score(y_test, rf_probs)\n",
    "    xgb_auc = roc_auc_score(y_test, xgb_probs)\n",
    "    \n",
    "    print(f\"Random Forest AUC: {rf_auc:.4f}\")\n",
    "    print(f\"XGBoost AUC: {xgb_auc:.4f}\")\n",
    "    \n",
    "    # 6. Save results\n",
    "    save_results(rf_auc, xgb_auc)"
   ]
  }
 ],
 "metadata": {
  "kernelspec": {
   "display_name": "base",
   "language": "python",
   "name": "python3"
  },
  "language_info": {
   "codemirror_mode": {
    "name": "ipython",
    "version": 3
   },
   "file_extension": ".py",
   "mimetype": "text/x-python",
   "name": "python",
   "nbconvert_exporter": "python",
   "pygments_lexer": "ipython3",
   "version": "3.9.12"
  }
 },
 "nbformat": 4,
 "nbformat_minor": 5
}
