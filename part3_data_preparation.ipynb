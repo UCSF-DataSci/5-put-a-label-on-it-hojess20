{
 "cells": [
  {
   "cell_type": "markdown",
   "id": "33d59c98",
   "metadata": {},
   "source": [
    "# Install necessary packages"
   ]
  },
  {
   "cell_type": "code",
   "execution_count": 16,
   "id": "854e4e89",
   "metadata": {},
   "outputs": [
    {
     "name": "stdout",
     "output_type": "stream",
     "text": [
      "Requirement already satisfied: pandas<3.0,>=1.5 in /Users/jessica/opt/anaconda3/lib/python3.9/site-packages (from -r requirements.txt (line 2)) (2.2.3)\n",
      "Requirement already satisfied: numpy<3.0,>=1.20 in /Users/jessica/opt/anaconda3/lib/python3.9/site-packages (from -r requirements.txt (line 3)) (1.22.4)\n",
      "Requirement already satisfied: scikit-learn<2.0,>=1.0 in /Users/jessica/opt/anaconda3/lib/python3.9/site-packages (from -r requirements.txt (line 4)) (1.0.2)\n",
      "Requirement already satisfied: xgboost<3.0,>=1.5 in /Users/jessica/opt/anaconda3/lib/python3.9/site-packages (from -r requirements.txt (line 5)) (2.1.4)\n",
      "Requirement already satisfied: imbalanced-learn<1.0,>=0.9 in /Users/jessica/opt/anaconda3/lib/python3.9/site-packages (from -r requirements.txt (line 6)) (0.12.4)\n",
      "Requirement already satisfied: matplotlib<4.0,>=3.5 in /Users/jessica/opt/anaconda3/lib/python3.9/site-packages (from -r requirements.txt (line 7)) (3.5.1)\n",
      "Requirement already satisfied: seaborn<1.0,>=0.11 in /Users/jessica/opt/anaconda3/lib/python3.9/site-packages (from -r requirements.txt (line 8)) (0.11.2)\n",
      "Requirement already satisfied: ipykernel in /Users/jessica/opt/anaconda3/lib/python3.9/site-packages (from -r requirements.txt (line 9)) (6.29.5)\n",
      "Requirement already satisfied: tzdata>=2022.7 in /Users/jessica/opt/anaconda3/lib/python3.9/site-packages (from pandas<3.0,>=1.5->-r requirements.txt (line 2)) (2025.2)\n",
      "Requirement already satisfied: pytz>=2020.1 in /Users/jessica/opt/anaconda3/lib/python3.9/site-packages (from pandas<3.0,>=1.5->-r requirements.txt (line 2)) (2021.3)\n",
      "Requirement already satisfied: python-dateutil>=2.8.2 in /Users/jessica/opt/anaconda3/lib/python3.9/site-packages (from pandas<3.0,>=1.5->-r requirements.txt (line 2)) (2.8.2)\n",
      "Requirement already satisfied: threadpoolctl>=2.0.0 in /Users/jessica/opt/anaconda3/lib/python3.9/site-packages (from scikit-learn<2.0,>=1.0->-r requirements.txt (line 4)) (2.2.0)\n",
      "Requirement already satisfied: joblib>=0.11 in /Users/jessica/opt/anaconda3/lib/python3.9/site-packages (from scikit-learn<2.0,>=1.0->-r requirements.txt (line 4)) (1.5.1)\n",
      "Requirement already satisfied: scipy>=1.1.0 in /Users/jessica/opt/anaconda3/lib/python3.9/site-packages (from scikit-learn<2.0,>=1.0->-r requirements.txt (line 4)) (1.7.3)\n",
      "Requirement already satisfied: cycler>=0.10 in /Users/jessica/opt/anaconda3/lib/python3.9/site-packages (from matplotlib<4.0,>=3.5->-r requirements.txt (line 7)) (0.11.0)\n",
      "Requirement already satisfied: packaging>=20.0 in /Users/jessica/opt/anaconda3/lib/python3.9/site-packages (from matplotlib<4.0,>=3.5->-r requirements.txt (line 7)) (25.0)\n",
      "Requirement already satisfied: kiwisolver>=1.0.1 in /Users/jessica/opt/anaconda3/lib/python3.9/site-packages (from matplotlib<4.0,>=3.5->-r requirements.txt (line 7)) (1.3.2)\n",
      "Requirement already satisfied: pyparsing>=2.2.1 in /Users/jessica/opt/anaconda3/lib/python3.9/site-packages (from matplotlib<4.0,>=3.5->-r requirements.txt (line 7)) (3.0.4)\n",
      "Requirement already satisfied: pillow>=6.2.0 in /Users/jessica/opt/anaconda3/lib/python3.9/site-packages (from matplotlib<4.0,>=3.5->-r requirements.txt (line 7)) (9.0.1)\n",
      "Requirement already satisfied: fonttools>=4.22.0 in /Users/jessica/opt/anaconda3/lib/python3.9/site-packages (from matplotlib<4.0,>=3.5->-r requirements.txt (line 7)) (4.25.0)\n",
      "Requirement already satisfied: debugpy>=1.6.5 in /Users/jessica/opt/anaconda3/lib/python3.9/site-packages (from ipykernel->-r requirements.txt (line 9)) (1.8.14)\n",
      "Requirement already satisfied: matplotlib-inline>=0.1 in /Users/jessica/opt/anaconda3/lib/python3.9/site-packages (from ipykernel->-r requirements.txt (line 9)) (0.1.2)\n",
      "Requirement already satisfied: comm>=0.1.1 in /Users/jessica/opt/anaconda3/lib/python3.9/site-packages (from ipykernel->-r requirements.txt (line 9)) (0.2.2)\n",
      "Requirement already satisfied: nest-asyncio in /Users/jessica/opt/anaconda3/lib/python3.9/site-packages (from ipykernel->-r requirements.txt (line 9)) (1.5.5)\n",
      "Requirement already satisfied: appnope in /Users/jessica/opt/anaconda3/lib/python3.9/site-packages (from ipykernel->-r requirements.txt (line 9)) (0.1.2)\n",
      "Requirement already satisfied: ipython>=7.23.1 in /Users/jessica/opt/anaconda3/lib/python3.9/site-packages (from ipykernel->-r requirements.txt (line 9)) (8.2.0)\n",
      "Requirement already satisfied: jupyter-core!=5.0.*,>=4.12 in /Users/jessica/opt/anaconda3/lib/python3.9/site-packages (from ipykernel->-r requirements.txt (line 9)) (5.7.2)\n",
      "Requirement already satisfied: traitlets>=5.4.0 in /Users/jessica/opt/anaconda3/lib/python3.9/site-packages (from ipykernel->-r requirements.txt (line 9)) (5.14.3)\n",
      "Requirement already satisfied: pyzmq>=24 in /Users/jessica/opt/anaconda3/lib/python3.9/site-packages (from ipykernel->-r requirements.txt (line 9)) (26.4.0)\n",
      "Requirement already satisfied: tornado>=6.1 in /Users/jessica/opt/anaconda3/lib/python3.9/site-packages (from ipykernel->-r requirements.txt (line 9)) (6.5.1)\n",
      "Requirement already satisfied: psutil in /Users/jessica/opt/anaconda3/lib/python3.9/site-packages (from ipykernel->-r requirements.txt (line 9)) (5.8.0)\n",
      "Requirement already satisfied: jupyter-client>=6.1.12 in /Users/jessica/opt/anaconda3/lib/python3.9/site-packages (from ipykernel->-r requirements.txt (line 9)) (8.6.3)\n",
      "Requirement already satisfied: backcall in /Users/jessica/opt/anaconda3/lib/python3.9/site-packages (from ipython>=7.23.1->ipykernel->-r requirements.txt (line 9)) (0.2.0)\n",
      "Requirement already satisfied: pexpect>4.3 in /Users/jessica/opt/anaconda3/lib/python3.9/site-packages (from ipython>=7.23.1->ipykernel->-r requirements.txt (line 9)) (4.8.0)\n",
      "Requirement already satisfied: pickleshare in /Users/jessica/opt/anaconda3/lib/python3.9/site-packages (from ipython>=7.23.1->ipykernel->-r requirements.txt (line 9)) (0.7.5)\n",
      "Requirement already satisfied: jedi>=0.16 in /Users/jessica/opt/anaconda3/lib/python3.9/site-packages (from ipython>=7.23.1->ipykernel->-r requirements.txt (line 9)) (0.18.1)\n",
      "Requirement already satisfied: setuptools>=18.5 in /Users/jessica/opt/anaconda3/lib/python3.9/site-packages (from ipython>=7.23.1->ipykernel->-r requirements.txt (line 9)) (61.2.0)\n",
      "Requirement already satisfied: stack-data in /Users/jessica/opt/anaconda3/lib/python3.9/site-packages (from ipython>=7.23.1->ipykernel->-r requirements.txt (line 9)) (0.2.0)\n",
      "Requirement already satisfied: pygments>=2.4.0 in /Users/jessica/opt/anaconda3/lib/python3.9/site-packages (from ipython>=7.23.1->ipykernel->-r requirements.txt (line 9)) (2.11.2)\n",
      "Requirement already satisfied: decorator in /Users/jessica/opt/anaconda3/lib/python3.9/site-packages (from ipython>=7.23.1->ipykernel->-r requirements.txt (line 9)) (5.1.1)\n",
      "Requirement already satisfied: prompt-toolkit!=3.0.0,!=3.0.1,<3.1.0,>=2.0.0 in /Users/jessica/opt/anaconda3/lib/python3.9/site-packages (from ipython>=7.23.1->ipykernel->-r requirements.txt (line 9)) (3.0.20)\n",
      "Requirement already satisfied: parso<0.9.0,>=0.8.0 in /Users/jessica/opt/anaconda3/lib/python3.9/site-packages (from jedi>=0.16->ipython>=7.23.1->ipykernel->-r requirements.txt (line 9)) (0.8.3)\n",
      "Requirement already satisfied: importlib-metadata>=4.8.3 in /Users/jessica/opt/anaconda3/lib/python3.9/site-packages (from jupyter-client>=6.1.12->ipykernel->-r requirements.txt (line 9)) (4.11.3)\n",
      "Requirement already satisfied: zipp>=0.5 in /Users/jessica/opt/anaconda3/lib/python3.9/site-packages (from importlib-metadata>=4.8.3->jupyter-client>=6.1.12->ipykernel->-r requirements.txt (line 9)) (3.7.0)\n",
      "Requirement already satisfied: platformdirs>=2.5 in /Users/jessica/opt/anaconda3/lib/python3.9/site-packages (from jupyter-core!=5.0.*,>=4.12->ipykernel->-r requirements.txt (line 9)) (4.3.8)\n",
      "Requirement already satisfied: ptyprocess>=0.5 in /Users/jessica/opt/anaconda3/lib/python3.9/site-packages (from pexpect>4.3->ipython>=7.23.1->ipykernel->-r requirements.txt (line 9)) (0.7.0)\n",
      "Requirement already satisfied: wcwidth in /Users/jessica/opt/anaconda3/lib/python3.9/site-packages (from prompt-toolkit!=3.0.0,!=3.0.1,<3.1.0,>=2.0.0->ipython>=7.23.1->ipykernel->-r requirements.txt (line 9)) (0.2.5)\n",
      "Requirement already satisfied: six>=1.5 in /Users/jessica/opt/anaconda3/lib/python3.9/site-packages (from python-dateutil>=2.8.2->pandas<3.0,>=1.5->-r requirements.txt (line 2)) (1.16.0)\n",
      "Requirement already satisfied: pure-eval in /Users/jessica/opt/anaconda3/lib/python3.9/site-packages (from stack-data->ipython>=7.23.1->ipykernel->-r requirements.txt (line 9)) (0.2.2)\n",
      "Requirement already satisfied: asttokens in /Users/jessica/opt/anaconda3/lib/python3.9/site-packages (from stack-data->ipython>=7.23.1->ipykernel->-r requirements.txt (line 9)) (2.0.5)\n",
      "Requirement already satisfied: executing in /Users/jessica/opt/anaconda3/lib/python3.9/site-packages (from stack-data->ipython>=7.23.1->ipykernel->-r requirements.txt (line 9)) (0.8.3)\n",
      "Note: you may need to restart the kernel to use updated packages.\n"
     ]
    }
   ],
   "source": [
    "%pip install -r requirements.txt"
   ]
  },
  {
   "cell_type": "markdown",
   "id": "a9cfbce1",
   "metadata": {},
   "source": [
    "# Part 3: Practical Data Preparation\n",
    "\n",
    "**Objective:** Handle categorical features using One-Hot Encoding and address class imbalance using SMOTE.\n",
    "\n",
    "## 1. Setup\n",
    "\n",
    "Import necessary libraries."
   ]
  },
  {
   "cell_type": "code",
   "execution_count": 17,
   "id": "65cb56af",
   "metadata": {},
   "outputs": [],
   "source": [
    "import pandas as pd\n",
    "import numpy as np\n",
    "import os\n",
    "from sklearn.model_selection import train_test_split\n",
    "from sklearn.preprocessing import OneHotEncoder\n",
    "from sklearn.linear_model import LogisticRegression\n",
    "from sklearn.metrics import accuracy_score, precision_score, recall_score, f1_score, roc_auc_score, confusion_matrix\n",
    "from sklearn.impute import SimpleImputer\n",
    "from imblearn.over_sampling import SMOTE"
   ]
  },
  {
   "cell_type": "markdown",
   "id": "88c284cf",
   "metadata": {},
   "source": [
    "## 2. Data Loading\n",
    "\n",
    "Load the dataset."
   ]
  },
  {
   "cell_type": "code",
   "execution_count": 18,
   "id": "101964a8",
   "metadata": {},
   "outputs": [],
   "source": [
    "def load_data(file_path):\n",
    "    \"\"\"\n",
    "    Load the synthetic health data from a CSV file.\n",
    "    \n",
    "    Args:\n",
    "        file_path: Path to the CSV file\n",
    "        \n",
    "    Returns:\n",
    "        DataFrame containing the data\n",
    "    \"\"\"\n",
    "    dat = pd.read_csv(file_path)\n",
    "    return dat"
   ]
  },
  {
   "cell_type": "markdown",
   "id": "6fab6eaf",
   "metadata": {},
   "source": [
    "## 3. Categorical Feature Encoding\n",
    "\n",
    "Implement `encode_categorical_features` using `OneHotEncoder`."
   ]
  },
  {
   "cell_type": "code",
   "execution_count": 28,
   "id": "b11e8fce",
   "metadata": {},
   "outputs": [],
   "source": [
    "def encode_categorical_features(df, column_to_encode='smoker_status'):\n",
    "    \"\"\"\n",
    "    Encode a categorical column using OneHotEncoder.\n",
    "    \n",
    "    Args:\n",
    "        df: Input DataFrame\n",
    "        column_to_encode: Name of the categorical column to encode\n",
    "        \n",
    "    Returns:\n",
    "        DataFrame with the categorical column replaced by one-hot encoded columns\n",
    "    \"\"\"\n",
    "    # 1. Extract the categorical column\n",
    "    # 2. Apply OneHotEncoder\n",
    "    # 3. Create new column names\n",
    "    # 4. Replace the original categorical column with the encoded columns\n",
    "    \n",
    "    cat_col = df[[column_to_encode]]\n",
    "\n",
    "    encoder = OneHotEncoder(sparse=False, drop='first') \n",
    "    encoded_array = encoder.fit_transform(cat_col)\n",
    "\n",
    "    encoded_col_names = encoder.get_feature_names_out([column_to_encode])\n",
    "\n",
    "    encoded_df = pd.DataFrame(encoded_array, columns=encoded_col_names, index=df.index)\n",
    "    df_encoded = df.drop(columns=[column_to_encode]).copy()\n",
    "    df_encoded = pd.concat([df_encoded, encoded_df], axis=1)\n",
    "\n",
    "    return df_encoded"
   ]
  },
  {
   "cell_type": "markdown",
   "id": "4ef23792",
   "metadata": {},
   "source": [
    "## 4. Data Preparation\n",
    "\n",
    "Implement `prepare_data_part3` to handle the train/test split correctly."
   ]
  },
  {
   "cell_type": "code",
   "execution_count": 29,
   "id": "d2c004f5",
   "metadata": {},
   "outputs": [],
   "source": [
    "def prepare_data_part3(df, test_size=0.2, random_state=42):\n",
    "    \"\"\"\n",
    "    Prepare data with categorical encoding.\n",
    "    \n",
    "    Args:\n",
    "        df: Input DataFrame\n",
    "        test_size: Proportion of data for testing\n",
    "        random_state: Random seed for reproducibility\n",
    "        \n",
    "    Returns:\n",
    "        X_train, X_test, y_train, y_test\n",
    "    \"\"\"\n",
    "    # YOUR CODE HERE\n",
    "    # 1. Encode categorical features using the encode_categorical_features function\n",
    "    # 2. Select relevant features (including the one-hot encoded ones) and the target\n",
    "    # 3. Split data into training and testing sets\n",
    "    # 4. Handle missing values\n",
    "    \n",
    "    df = encode_categorical_features(df)\n",
    "    X = df[['age', 'systolic_bp', 'diastolic_bp', 'glucose_level', 'bmi', 'smoker_status_no', 'smoker_status_yes']]\n",
    "    Y = df[['disease_outcome']]\n",
    "    X_train, X_test, y_train, y_test = train_test_split(X, Y, test_size = test_size, random_state = random_state)\n",
    "    imputer = SimpleImputer(strategy = 'mean')\n",
    "    X_train = imputer.fit_transform(X_train)\n",
    "    X_test = imputer.transform(X_test)\n",
    "    \n",
    "    # Placeholder return - replace with your implementation\n",
    "    return X_train, X_test, y_train, y_test"
   ]
  },
  {
   "cell_type": "markdown",
   "id": "f6872118",
   "metadata": {},
   "source": [
    "## 5. Handling Imbalanced Data\n",
    "\n",
    "Implement `apply_smote` to oversample the minority class."
   ]
  },
  {
   "cell_type": "code",
   "execution_count": 30,
   "id": "d6228994",
   "metadata": {},
   "outputs": [],
   "source": [
    "def apply_smote(X_train, y_train, random_state=42):\n",
    "    \"\"\"\n",
    "    Apply SMOTE to oversample the minority class.\n",
    "    \n",
    "    Args:\n",
    "        X_train: Training features\n",
    "        y_train: Training target\n",
    "        random_state: Random seed for reproducibility\n",
    "        \n",
    "    Returns:\n",
    "        Resampled X_train and y_train with balanced classes\n",
    "    \"\"\"\n",
    "\n",
    "    # Apply SMOTE to balance the classes\n",
    "    \n",
    "    smote = SMOTE(random_state=random_state)\n",
    "    X_resampled, y_resampled = smote.fit_resample(X_train, y_train)\n",
    "    \n",
    "    return X_resampled, y_resampled"
   ]
  },
  {
   "cell_type": "markdown",
   "id": "04cb81ea",
   "metadata": {},
   "source": [
    "## 6. Model Training and Evaluation\n",
    "\n",
    "Train a model on the SMOTE-resampled data and evaluate it."
   ]
  },
  {
   "cell_type": "code",
   "execution_count": 31,
   "id": "95bb11f3",
   "metadata": {},
   "outputs": [],
   "source": [
    "def train_logistic_regression(X_train, y_train):\n",
    "    \"\"\"\n",
    "    Train a logistic regression model.\n",
    "    \n",
    "    Args:\n",
    "        X_train: Training features\n",
    "        y_train: Training target\n",
    "        \n",
    "    Returns:\n",
    "        Trained logistic regression model\n",
    "    \"\"\"\n",
    "    # Initialize and train a LogisticRegression model\n",
    "    model = LogisticRegression()\n",
    "    model.fit(X_train, y_train)\n",
    "\n",
    "    return model  # Replace with actual implementation\n",
    "\n",
    "def calculate_evaluation_metrics(model, X_test, y_test):\n",
    "    \"\"\"\n",
    "    Calculate classification evaluation metrics.\n",
    "    \n",
    "    Args:\n",
    "        model: Trained model\n",
    "        X_test: Test features\n",
    "        y_test: Test target\n",
    "        \n",
    "    Returns:\n",
    "        Dictionary containing accuracy, precision, recall, f1, auc, and confusion_matrix\n",
    "    \"\"\"\n",
    "    # 1. Generate predictions\n",
    "    # 2. Calculate metrics: accuracy, precision, recall, f1, auc\n",
    "    # 3. Create confusion matrix\n",
    "    # 4. Return metrics in a dictionary\n",
    "    \n",
    "    y_pred = model.predict(X_test)\n",
    "    y_prob = model.predict_proba(X_test)[:, 1] \n",
    "\n",
    "    # 2. Calculate metrics\n",
    "    metrics = {\n",
    "        \"accuracy\": accuracy_score(y_test, y_pred),\n",
    "        \"precision\": precision_score(y_test, y_pred),\n",
    "        \"recall\": recall_score(y_test, y_pred),\n",
    "        \"f1\": f1_score(y_test, y_pred),\n",
    "        \"auc\": roc_auc_score(y_test, y_prob),\n",
    "        \"confusion_matrix\": confusion_matrix(y_test, y_pred).tolist()\n",
    "    }\n",
    "\n",
    "    return metrics\n",
    "    \n",
    "    "
   ]
  },
  {
   "cell_type": "markdown",
   "id": "395bc0d2",
   "metadata": {},
   "source": [
    "## 7. Save Results\n",
    "\n",
    "Save the evaluation metrics to a text file."
   ]
  },
  {
   "cell_type": "code",
   "execution_count": 32,
   "id": "f457ff5c",
   "metadata": {},
   "outputs": [],
   "source": [
    "def save_results(metrics: dict):\n",
    "    os.makedirs('results', exist_ok=True)\n",
    "    formatted_metrics = [f\"{key}: {value}\" for key, value in metrics.items()]\n",
    "\n",
    "    output_file = 'results/results_part3.txt'\n",
    "    with open(output_file, 'w') as f:\n",
    "        for line in formatted_metrics:\n",
    "            f.write(line + '\\n')\n",
    "    print(f\"\\nMetrics saved to {output_file}\")"
   ]
  },
  {
   "cell_type": "markdown",
   "id": "a01f5f90",
   "metadata": {},
   "source": [
    "## 9. Compare Results\n",
    "\n",
    "Implement a function to compare model performance between balanced and imbalanced data."
   ]
  },
  {
   "cell_type": "code",
   "execution_count": null,
   "id": "a3811384",
   "metadata": {},
   "outputs": [],
   "source": [
    "def compare_models(part1_metrics, part3_metrics):\n",
    "    \"\"\"\n",
    "    Calculate percentage improvement between models trained on imbalanced vs. balanced data.\n",
    "    \n",
    "    Args:\n",
    "        part1_metrics: Dictionary containing evaluation metrics from Part 1 (imbalanced)\n",
    "        part3_metrics: Dictionary containing evaluation metrics from Part 3 (balanced)\n",
    "        \n",
    "    Returns:\n",
    "        Dictionary with metric names as keys and improvement percentages as values\n",
    "    \"\"\"\n",
    "    # 1. Calculate percentage improvement for each metric\n",
    "    # 2. Handle metrics where higher is better (most metrics) and where lower is better\n",
    "    # 3. Return a dictionary with metric names and improvement percentages\n",
    "    \n",
    "    improvement = {\n",
    "        'accuracy' : (part3_metrics['accuracy'] - part1_metrics['accuracy']) / part1_metrics['accuracy'] * 100,\n",
    "        'precision' : (part3_metrics['precision'] - part1_metrics['precision']) / part1_metrics['precision'] * 100,\n",
    "        'recall' : (part3_metrics['recall'] - part1_metrics['recall']) / part1_metrics['recall'] * 100,\n",
    "        'f1' : (part3_metrics['f1'] - part1_metrics['f1']) / part1_metrics['f1'] * 100,\n",
    "        'auc' : (part3_metrics['auc'] - part1_metrics['auc']) / part1_metrics['auc'] * 100\n",
    "    }\n",
    "    return improvement"
   ]
  },
  {
   "cell_type": "markdown",
   "id": "ac8c7e2a",
   "metadata": {},
   "source": [
    "## 8. Main Execution\n",
    "\n",
    "Run the complete workflow."
   ]
  },
  {
   "cell_type": "code",
   "execution_count": 35,
   "id": "2e475043",
   "metadata": {},
   "outputs": [
    {
     "name": "stdout",
     "output_type": "stream",
     "text": [
      "accuracy: 0.8274\n",
      "precision: 0.3401\n",
      "recall: 0.8182\n",
      "f1: 0.4805\n",
      "auc: 0.9089\n",
      "\n",
      "Metrics saved to results/results_part3.txt\n"
     ]
    },
    {
     "name": "stderr",
     "output_type": "stream",
     "text": [
      "/Users/jessica/opt/anaconda3/lib/python3.9/site-packages/sklearn/utils/validation.py:993: DataConversionWarning: A column-vector y was passed when a 1d array was expected. Please change the shape of y to (n_samples, ), for example using ravel().\n",
      "  y = column_or_1d(y, warn=True)\n",
      "/Users/jessica/opt/anaconda3/lib/python3.9/site-packages/sklearn/linear_model/_logistic.py:814: ConvergenceWarning: lbfgs failed to converge (status=1):\n",
      "STOP: TOTAL NO. of ITERATIONS REACHED LIMIT.\n",
      "\n",
      "Increase the number of iterations (max_iter) or scale the data as shown in:\n",
      "    https://scikit-learn.org/stable/modules/preprocessing.html\n",
      "Please also refer to the documentation for alternative solver options:\n",
      "    https://scikit-learn.org/stable/modules/linear_model.html#logistic-regression\n",
      "  n_iter_i = _check_optimize_result(\n"
     ]
    },
    {
     "ename": "JSONDecodeError",
     "evalue": "Expecting value: line 1 column 1 (char 0)",
     "output_type": "error",
     "traceback": [
      "\u001b[0;31m---------------------------------------------------------------------------\u001b[0m",
      "\u001b[0;31mJSONDecodeError\u001b[0m                           Traceback (most recent call last)",
      "Input \u001b[0;32mIn [35]\u001b[0m, in \u001b[0;36m<cell line: 2>\u001b[0;34m()\u001b[0m\n\u001b[1;32m     29\u001b[0m \u001b[38;5;28;01mtry\u001b[39;00m:\n\u001b[1;32m     30\u001b[0m     \u001b[38;5;28;01mwith\u001b[39;00m \u001b[38;5;28mopen\u001b[39m(\u001b[38;5;124m'\u001b[39m\u001b[38;5;124mresults/results_part1.txt\u001b[39m\u001b[38;5;124m'\u001b[39m, \u001b[38;5;124m'\u001b[39m\u001b[38;5;124mr\u001b[39m\u001b[38;5;124m'\u001b[39m) \u001b[38;5;28;01mas\u001b[39;00m f:\n\u001b[0;32m---> 31\u001b[0m         part1_metrics \u001b[38;5;241m=\u001b[39m \u001b[43mjson\u001b[49m\u001b[38;5;241;43m.\u001b[39;49m\u001b[43mload\u001b[49m\u001b[43m(\u001b[49m\u001b[43mf\u001b[49m\u001b[43m)\u001b[49m\n\u001b[1;32m     33\u001b[0m     \u001b[38;5;66;03m# 9. Compare models\u001b[39;00m\n\u001b[1;32m     34\u001b[0m     comparison \u001b[38;5;241m=\u001b[39m compare_models(part1_metrics, metrics)\n",
      "File \u001b[0;32m~/opt/anaconda3/lib/python3.9/json/__init__.py:293\u001b[0m, in \u001b[0;36mload\u001b[0;34m(fp, cls, object_hook, parse_float, parse_int, parse_constant, object_pairs_hook, **kw)\u001b[0m\n\u001b[1;32m    274\u001b[0m \u001b[38;5;28;01mdef\u001b[39;00m \u001b[38;5;21mload\u001b[39m(fp, \u001b[38;5;241m*\u001b[39m, \u001b[38;5;28mcls\u001b[39m\u001b[38;5;241m=\u001b[39m\u001b[38;5;28;01mNone\u001b[39;00m, object_hook\u001b[38;5;241m=\u001b[39m\u001b[38;5;28;01mNone\u001b[39;00m, parse_float\u001b[38;5;241m=\u001b[39m\u001b[38;5;28;01mNone\u001b[39;00m,\n\u001b[1;32m    275\u001b[0m         parse_int\u001b[38;5;241m=\u001b[39m\u001b[38;5;28;01mNone\u001b[39;00m, parse_constant\u001b[38;5;241m=\u001b[39m\u001b[38;5;28;01mNone\u001b[39;00m, object_pairs_hook\u001b[38;5;241m=\u001b[39m\u001b[38;5;28;01mNone\u001b[39;00m, \u001b[38;5;241m*\u001b[39m\u001b[38;5;241m*\u001b[39mkw):\n\u001b[1;32m    276\u001b[0m     \u001b[38;5;124;03m\"\"\"Deserialize ``fp`` (a ``.read()``-supporting file-like object containing\u001b[39;00m\n\u001b[1;32m    277\u001b[0m \u001b[38;5;124;03m    a JSON document) to a Python object.\u001b[39;00m\n\u001b[1;32m    278\u001b[0m \n\u001b[0;32m   (...)\u001b[0m\n\u001b[1;32m    291\u001b[0m \u001b[38;5;124;03m    kwarg; otherwise ``JSONDecoder`` is used.\u001b[39;00m\n\u001b[1;32m    292\u001b[0m \u001b[38;5;124;03m    \"\"\"\u001b[39;00m\n\u001b[0;32m--> 293\u001b[0m     \u001b[38;5;28;01mreturn\u001b[39;00m \u001b[43mloads\u001b[49m\u001b[43m(\u001b[49m\u001b[43mfp\u001b[49m\u001b[38;5;241;43m.\u001b[39;49m\u001b[43mread\u001b[49m\u001b[43m(\u001b[49m\u001b[43m)\u001b[49m\u001b[43m,\u001b[49m\n\u001b[1;32m    294\u001b[0m \u001b[43m        \u001b[49m\u001b[38;5;28;43mcls\u001b[39;49m\u001b[38;5;241;43m=\u001b[39;49m\u001b[38;5;28;43mcls\u001b[39;49m\u001b[43m,\u001b[49m\u001b[43m \u001b[49m\u001b[43mobject_hook\u001b[49m\u001b[38;5;241;43m=\u001b[39;49m\u001b[43mobject_hook\u001b[49m\u001b[43m,\u001b[49m\n\u001b[1;32m    295\u001b[0m \u001b[43m        \u001b[49m\u001b[43mparse_float\u001b[49m\u001b[38;5;241;43m=\u001b[39;49m\u001b[43mparse_float\u001b[49m\u001b[43m,\u001b[49m\u001b[43m \u001b[49m\u001b[43mparse_int\u001b[49m\u001b[38;5;241;43m=\u001b[39;49m\u001b[43mparse_int\u001b[49m\u001b[43m,\u001b[49m\n\u001b[1;32m    296\u001b[0m \u001b[43m        \u001b[49m\u001b[43mparse_constant\u001b[49m\u001b[38;5;241;43m=\u001b[39;49m\u001b[43mparse_constant\u001b[49m\u001b[43m,\u001b[49m\u001b[43m \u001b[49m\u001b[43mobject_pairs_hook\u001b[49m\u001b[38;5;241;43m=\u001b[39;49m\u001b[43mobject_pairs_hook\u001b[49m\u001b[43m,\u001b[49m\u001b[43m \u001b[49m\u001b[38;5;241;43m*\u001b[39;49m\u001b[38;5;241;43m*\u001b[39;49m\u001b[43mkw\u001b[49m\u001b[43m)\u001b[49m\n",
      "File \u001b[0;32m~/opt/anaconda3/lib/python3.9/json/__init__.py:346\u001b[0m, in \u001b[0;36mloads\u001b[0;34m(s, cls, object_hook, parse_float, parse_int, parse_constant, object_pairs_hook, **kw)\u001b[0m\n\u001b[1;32m    341\u001b[0m     s \u001b[38;5;241m=\u001b[39m s\u001b[38;5;241m.\u001b[39mdecode(detect_encoding(s), \u001b[38;5;124m'\u001b[39m\u001b[38;5;124msurrogatepass\u001b[39m\u001b[38;5;124m'\u001b[39m)\n\u001b[1;32m    343\u001b[0m \u001b[38;5;28;01mif\u001b[39;00m (\u001b[38;5;28mcls\u001b[39m \u001b[38;5;129;01mis\u001b[39;00m \u001b[38;5;28;01mNone\u001b[39;00m \u001b[38;5;129;01mand\u001b[39;00m object_hook \u001b[38;5;129;01mis\u001b[39;00m \u001b[38;5;28;01mNone\u001b[39;00m \u001b[38;5;129;01mand\u001b[39;00m\n\u001b[1;32m    344\u001b[0m         parse_int \u001b[38;5;129;01mis\u001b[39;00m \u001b[38;5;28;01mNone\u001b[39;00m \u001b[38;5;129;01mand\u001b[39;00m parse_float \u001b[38;5;129;01mis\u001b[39;00m \u001b[38;5;28;01mNone\u001b[39;00m \u001b[38;5;129;01mand\u001b[39;00m\n\u001b[1;32m    345\u001b[0m         parse_constant \u001b[38;5;129;01mis\u001b[39;00m \u001b[38;5;28;01mNone\u001b[39;00m \u001b[38;5;129;01mand\u001b[39;00m object_pairs_hook \u001b[38;5;129;01mis\u001b[39;00m \u001b[38;5;28;01mNone\u001b[39;00m \u001b[38;5;129;01mand\u001b[39;00m \u001b[38;5;129;01mnot\u001b[39;00m kw):\n\u001b[0;32m--> 346\u001b[0m     \u001b[38;5;28;01mreturn\u001b[39;00m \u001b[43m_default_decoder\u001b[49m\u001b[38;5;241;43m.\u001b[39;49m\u001b[43mdecode\u001b[49m\u001b[43m(\u001b[49m\u001b[43ms\u001b[49m\u001b[43m)\u001b[49m\n\u001b[1;32m    347\u001b[0m \u001b[38;5;28;01mif\u001b[39;00m \u001b[38;5;28mcls\u001b[39m \u001b[38;5;129;01mis\u001b[39;00m \u001b[38;5;28;01mNone\u001b[39;00m:\n\u001b[1;32m    348\u001b[0m     \u001b[38;5;28mcls\u001b[39m \u001b[38;5;241m=\u001b[39m JSONDecoder\n",
      "File \u001b[0;32m~/opt/anaconda3/lib/python3.9/json/decoder.py:337\u001b[0m, in \u001b[0;36mJSONDecoder.decode\u001b[0;34m(self, s, _w)\u001b[0m\n\u001b[1;32m    332\u001b[0m \u001b[38;5;28;01mdef\u001b[39;00m \u001b[38;5;21mdecode\u001b[39m(\u001b[38;5;28mself\u001b[39m, s, _w\u001b[38;5;241m=\u001b[39mWHITESPACE\u001b[38;5;241m.\u001b[39mmatch):\n\u001b[1;32m    333\u001b[0m     \u001b[38;5;124;03m\"\"\"Return the Python representation of ``s`` (a ``str`` instance\u001b[39;00m\n\u001b[1;32m    334\u001b[0m \u001b[38;5;124;03m    containing a JSON document).\u001b[39;00m\n\u001b[1;32m    335\u001b[0m \n\u001b[1;32m    336\u001b[0m \u001b[38;5;124;03m    \"\"\"\u001b[39;00m\n\u001b[0;32m--> 337\u001b[0m     obj, end \u001b[38;5;241m=\u001b[39m \u001b[38;5;28;43mself\u001b[39;49m\u001b[38;5;241;43m.\u001b[39;49m\u001b[43mraw_decode\u001b[49m\u001b[43m(\u001b[49m\u001b[43ms\u001b[49m\u001b[43m,\u001b[49m\u001b[43m \u001b[49m\u001b[43midx\u001b[49m\u001b[38;5;241;43m=\u001b[39;49m\u001b[43m_w\u001b[49m\u001b[43m(\u001b[49m\u001b[43ms\u001b[49m\u001b[43m,\u001b[49m\u001b[43m \u001b[49m\u001b[38;5;241;43m0\u001b[39;49m\u001b[43m)\u001b[49m\u001b[38;5;241;43m.\u001b[39;49m\u001b[43mend\u001b[49m\u001b[43m(\u001b[49m\u001b[43m)\u001b[49m\u001b[43m)\u001b[49m\n\u001b[1;32m    338\u001b[0m     end \u001b[38;5;241m=\u001b[39m _w(s, end)\u001b[38;5;241m.\u001b[39mend()\n\u001b[1;32m    339\u001b[0m     \u001b[38;5;28;01mif\u001b[39;00m end \u001b[38;5;241m!=\u001b[39m \u001b[38;5;28mlen\u001b[39m(s):\n",
      "File \u001b[0;32m~/opt/anaconda3/lib/python3.9/json/decoder.py:355\u001b[0m, in \u001b[0;36mJSONDecoder.raw_decode\u001b[0;34m(self, s, idx)\u001b[0m\n\u001b[1;32m    353\u001b[0m     obj, end \u001b[38;5;241m=\u001b[39m \u001b[38;5;28mself\u001b[39m\u001b[38;5;241m.\u001b[39mscan_once(s, idx)\n\u001b[1;32m    354\u001b[0m \u001b[38;5;28;01mexcept\u001b[39;00m \u001b[38;5;167;01mStopIteration\u001b[39;00m \u001b[38;5;28;01mas\u001b[39;00m err:\n\u001b[0;32m--> 355\u001b[0m     \u001b[38;5;28;01mraise\u001b[39;00m JSONDecodeError(\u001b[38;5;124m\"\u001b[39m\u001b[38;5;124mExpecting value\u001b[39m\u001b[38;5;124m\"\u001b[39m, s, err\u001b[38;5;241m.\u001b[39mvalue) \u001b[38;5;28;01mfrom\u001b[39;00m \u001b[38;5;28mNone\u001b[39m\n\u001b[1;32m    356\u001b[0m \u001b[38;5;28;01mreturn\u001b[39;00m obj, end\n",
      "\u001b[0;31mJSONDecodeError\u001b[0m: Expecting value: line 1 column 1 (char 0)"
     ]
    }
   ],
   "source": [
    "# Main execution\n",
    "if __name__ == \"__main__\":\n",
    "    # 1. Load data\n",
    "    data_file = 'data/synthetic_health_data.csv'\n",
    "    df = load_data(data_file)\n",
    "    \n",
    "    # 2. Prepare data with categorical encoding\n",
    "    X_train, X_test, y_train, y_test = prepare_data_part3(df)\n",
    "    \n",
    "    # 3. Apply SMOTE to balance the training data\n",
    "    X_train_resampled, y_train_resampled = apply_smote(X_train, y_train)\n",
    "    \n",
    "    # 4. Train model on resampled data\n",
    "    model = train_logistic_regression(X_train_resampled, y_train_resampled)\n",
    "    \n",
    "    # 5. Evaluate on original test set\n",
    "    metrics = calculate_evaluation_metrics(model, X_test, y_test)\n",
    "    \n",
    "    # 6. Print metrics\n",
    "    for metric, value in metrics.items():\n",
    "        if metric != 'confusion_matrix':\n",
    "            print(f\"{metric}: {value:.4f}\")\n",
    "    \n",
    "    # 7. Save results\n",
    "    save_results(metrics)\n",
    "    \n",
    "    # 8. Load Part 1 results for comparison\n",
    "    import json\n",
    "    try:\n",
    "        with open('results/results_part1.txt', 'r') as f:\n",
    "            part1_metrics = json.load(f)\n",
    "        \n",
    "        # 9. Compare models\n",
    "        comparison = compare_models(part1_metrics, metrics)\n",
    "        print(\"\\nModel Comparison (improvement percentages):\")\n",
    "        for metric, improvement in comparison.items():\n",
    "            print(f\"{metric}: {improvement:.2f}%\")\n",
    "    except FileNotFoundError:\n",
    "        print(\"Part 1 results not found. Run part1_introduction.ipynb first.\")"
   ]
  },
  {
   "cell_type": "code",
   "execution_count": null,
   "id": "798e8395",
   "metadata": {},
   "outputs": [],
   "source": [
    "# def compare_models(part1_metrics, part3_metrics):\n",
    "#     \"\"\"\n",
    "#     Calculate percentage improvement between models trained on imbalanced vs. balanced data.\n",
    "    \n",
    "#     Args:\n",
    "#         part1_metrics: Dictionary containing evaluation metrics from Part 1 (imbalanced)\n",
    "#         part3_metrics: Dictionary containing evaluation metrics from Part 3 (balanced)\n",
    "        \n",
    "#     Returns:\n",
    "#         Dictionary with metric names as keys and improvement percentages as values\n",
    "#     \"\"\"\n",
    "#     # 1. Calculate percentage improvement for each metric\n",
    "#     # 2. Handle metrics where higher is better (most metrics) and where lower is better\n",
    "#     # 3. Return a dictionary with metric names and improvement percentages\n",
    "    \n",
    "#     improvement = {\n",
    "#         'accuracy' : (part3_metrics['accuracy'] - part1_metrics['accuracy']) / part1_metrics['accuracy'] * 100,\n",
    "#         'precision' : (part3_metrics['precision'] - part1_metrics['precision']) / part1_metrics['precision'] * 100,\n",
    "#         'recall' : (part3_metrics['recall'] - part1_metrics['recall']) / part1_metrics['recall'] * 100,\n",
    "#         'f1' : (part3_metrics['f1'] - part1_metrics['f1']) / part1_metrics['f1'] * 100,\n",
    "#         'auc' : (part3_metrics['auc'] - part1_metrics['auc']) / part1_metrics['auc'] * 100\n",
    "#     }\n",
    "    \n",
    "#     # Placeholder return - replace with your implementation\n",
    "#     return improvement"
   ]
  }
 ],
 "metadata": {
  "kernelspec": {
   "display_name": "base",
   "language": "python",
   "name": "python3"
  },
  "language_info": {
   "codemirror_mode": {
    "name": "ipython",
    "version": 3
   },
   "file_extension": ".py",
   "mimetype": "text/x-python",
   "name": "python",
   "nbconvert_exporter": "python",
   "pygments_lexer": "ipython3",
   "version": "3.9.12"
  }
 },
 "nbformat": 4,
 "nbformat_minor": 5
}
